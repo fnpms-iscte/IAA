{
 "cells": [
  {
   "cell_type": "code",
   "execution_count": 374,
   "id": "3c3782b0",
   "metadata": {},
   "outputs": [],
   "source": [
    "import random\n",
    "import matplotlib.pyplot as plt\n",
    "import pandas as pd\n",
    "import numpy as np\n",
    "import copy\n",
    "import math\n",
    "\n",
    "def graphBoxplot(data,tests, title, xlabel, ylabel):\n",
    "    fig = plt.figure()\n",
    "    ax = fig.add_axes([0, 0, 1, 1])\n",
    "    bp = ax.boxplot(data, positions = tests, showmeans= True)\n",
    "    ax.set_title(title)\n",
    "    plt.ylabel(ylabel)\n",
    "    plt.xlabel(xlabel)\n",
    "    plt.show()\n",
    "    \n",
    "def exercise1(alphas):\n",
    "    #1.1 ---> [OR]\n",
    "    combinations_2bits = [[-1,-1],[-1,1],[1,-1],[1,1]]\n",
    "    d_or =  [-1, 1, 1,1]\n",
    "    d_and = [-1,-1,-1,1]\n",
    "    \n",
    "    for alpha in alphas:\n",
    "        \n",
    "        iterations = []\n",
    "        \n",
    "        for l in range(30):\n",
    "            \n",
    "            erro_sum = -1\n",
    "            i=0\n",
    "\n",
    "            #1.2\n",
    "            w0 = random.randint(1,9)/10\n",
    "            w1 = random.randint(1,9)/10\n",
    "            w2 = random.randint(1,9)/10\n",
    "\n",
    "            vw0 = 0\n",
    "            vw1 = 0\n",
    "            vw2 = 0\n",
    "\n",
    "            while erro_sum != 0:\n",
    "                i+=1\n",
    "                errors = []\n",
    "\n",
    "                for comb,desired_output in  zip(combinations_2bits,d_or):\n",
    "                    x = w0*1 + w1*comb[0] + w2*comb[1]\n",
    "                    if x > 0:\n",
    "                        output = 1\n",
    "                    else:\n",
    "                        output = -1\n",
    "\n",
    "                    #1.3\n",
    "                    error = abs(output - desired_output) \n",
    "                    errors.append(error)\n",
    "\n",
    "                    #1.4\n",
    "                    vw0 = vw0 + alpha*(desired_output-output)*1\n",
    "                    vw1 = vw1 + alpha*(desired_output-output)*comb[0]\n",
    "                    vw2 = vw2 + alpha*(desired_output-output)*comb[1]\n",
    "\n",
    "                #1.5\n",
    "                w0 = w0 + vw0\n",
    "                w1 = w1 + vw1\n",
    "                w2 = w2 + vw2\n",
    "\n",
    "                erro_sum = sum(errors)\n",
    "            \n",
    "            iterations.append(i)\n",
    "        \n",
    "        \n",
    "        title = \"Alpha =\" + str(alpha)\n",
    "        graphBoxplot(iterations,[30],title, \"Number of tests\",\"Iterations  through the set per test\")\n",
    "        print(\"\\nIterations: \",iterations,\"\\nAverage iterations :\",np.average(iterations),\"\\nStandard deviation :\", np.std(iterations),\"\\n\\n_______________________________\\n\\n\")\n",
    "        \n",
    "def load_file(file_name):\n",
    "    data =  pd.read_csv(file_name, sep=\",\", header=None)\n",
    "    return data\n",
    "\n",
    "def distance(r1 , r2):\n",
    "    distance = 0\n",
    "    for i in range(len(r1)-1):\n",
    "        distance += (r1[i]-r2[i])**2\n",
    "    return math.sqrt(distance)\n",
    "\n",
    "def get_neighbors(training_set, test_row, k_neighbors):\n",
    "    distances = []\n",
    "    \n",
    "    for train_row in training_set:\n",
    "        d = distance(train_row,test_row)\n",
    "        distances.append((train_row,d))\n",
    "     \n",
    "    distances.sort(key= lambda tup: tup[1])\n",
    "    neighbors = distances[:k_neighbors]\n",
    "    return neighbors\n",
    "\n",
    "def predict_specie(training_set, test_row, k_neighbors):\n",
    "    neighbors = get_neighbors(training_set, test_row, k_neighbors)\n",
    "    neighbors_species = [row[0][-1] for row in neighbors]\n",
    "    prediction = max(set(neighbors_species), key=neighbors_species.count)\n",
    "    return prediction\n",
    "\n",
    "def exercise2(data,k_neighbors):\n",
    "    dataset = data.values\n",
    "    scores = np.zeros((3,10))\n",
    "\n",
    "\n",
    "    shufle_dataset = copy.deepcopy(dataset)\n",
    "    intersection_point = int(0.7*150) # ponto de interceção entre os 70% e 30% do dataset\n",
    "\n",
    "    for i in range(10):\n",
    "        np.random.shuffle(shufle_dataset)\n",
    "\n",
    "        training_set = shufle_dataset[:intersection_point] \n",
    "        test_set = shufle_dataset[intersection_point:]\n",
    "        test_set_verify = copy.deepcopy(test_set)\n",
    "        \n",
    "        for k in k_neighbors:\n",
    "            index = k_neighbors.index(k)\n",
    "            for row in test_set:\n",
    "                row[-1] = predict_specie(training_set,row,k)\n",
    "\n",
    "            count = 0\n",
    "            for predicted_row,verified_row in zip(test_set,test_set_verify):\n",
    "                if predicted_row[-1] == verified_row[-1]:\n",
    "                    count +=1\n",
    "\n",
    "            score = count/len(test_set)*100\n",
    "            scores[index][i] = score\n",
    "\n",
    "    print(\"Average accuracy for k = 3 :\",np.mean(scores[0]),\"%\")\n",
    "    print(\"Average accuracy for k = 7 :\",np.mean(scores[1]),\"%\")\n",
    "    print(\"Average accuracy for k = 11 :\",np.mean(scores[2]),\"%\")\n",
    "\n",
    "\n",
    "    graphBoxplot([scores[0],scores[1],scores[2]],k_neighbors,\"Accuracy for 10 experiments per k neighbors\", \"k neighbors\" , \"Accuracy per experiment (%)\")\n",
    "    \n",
    "    fig, ax = plt.subplots(1,1,figsize =(10, 5))\n",
    "    ax.plot(k_neighbors, [np.mean(scores[0]),np.mean(scores[1]),np.mean(scores[2])], color='maroon', linestyle='dashed', linewidth = 3, marker='o', markerfacecolor='blue', markersize=12)\n",
    "    ax.set_xlabel('Number of Neighbors')\n",
    "    ax.set_ylabel('Accuracy %')\n",
    "    ax.set_title('Accuracy')\n",
    "    plt.show()\n",
    "    \n",
    "def calculate_average_column(feature, data):\n",
    "    average = data[feature].mean()\n",
    "    return average\n",
    "\n",
    "def split_dataset(feature,average,data):\n",
    "    s1,s2 = data[data[feature] >= average],data[data[feature] < average]\n",
    "    return s1,s2\n",
    "\n",
    "def calculate_pplus(feature,data,target_value):\n",
    "    try:\n",
    "        pplus = data['class'].value_counts()[target_value]/len(data)\n",
    "    except:\n",
    "        pplus= 0\n",
    "    return pplus\n",
    "    \n",
    "def calculate_pminus(pplus):\n",
    "    pminus= 1 - pplus\n",
    "    return pminus\n",
    "\n",
    "def calculate_entropy(pplus,pminus):\n",
    "    if pplus > 0:\n",
    "        entropy = -pplus * math.log2(pplus) - pminus * math.log2(pminus)\n",
    "    else:\n",
    "        entropy = 0\n",
    "    return entropy\n",
    "\n",
    "def calculate_gain(entropy_s,entropy_s1,entropy_s2,s,s1,s2):\n",
    "    gain = entropy_s -(s1*entropy_s1 + s2*entropy_s2)/s\n",
    "    return gain\n",
    "\n",
    "def exercise3(data,target_value):\n",
    "    for feature in range(4):\n",
    "        average = calculate_average_column(data.columns[feature],data)\n",
    "        s1,s2 = split_dataset(data.columns[feature],average,data)\n",
    "        pplus_s = calculate_pplus(feature,data,target_value)\n",
    "        pminus_s = calculate_pminus(pplus_s)\n",
    "\n",
    "        entropy_s = calculate_entropy(pplus_s,pminus_s)\n",
    "\n",
    "\n",
    "        pplus_s1   = calculate_pplus(feature,s1,target_value)\n",
    "        pminus_s1  = calculate_pminus(pplus_s1)\n",
    "        entropy_s1 = calculate_entropy(pplus_s1,pminus_s1)\n",
    "\n",
    "\n",
    "        pplus_s2   = calculate_pplus(feature,s2,target_value)\n",
    "        pminus_s2  = calculate_pminus(pplus_s2)\n",
    "        entropy_s2 = calculate_entropy(pplus_s2,pminus_s2)\n",
    "\n",
    "        gain = calculate_gain(entropy_s,entropy_s1,entropy_s2,len(data),len(s1),len(s2))\n",
    "\n",
    "        print(\"Gain of the split of S by  \\'\", data.columns[feature],\"\\' :\",gain)\n",
    "        \n",
    "def get_probability(column,gaussian_distribution, value):\n",
    "    for p in gaussian_distribution[column]:\n",
    "        if p[0] == value:\n",
    "            return p[1]\n",
    "\n",
    "def get_values():\n",
    "    x_values = []\n",
    "    \n",
    "    max_value = 8\n",
    "    min_value = 0\n",
    "    \n",
    "    aux_min = int(min_value*10)\n",
    "    aux_max = int((max_value+ 0.1)*10)\n",
    "    \n",
    "    for x in range(aux_min , aux_max):\n",
    "        x_values.append(x/10)\n",
    "    \n",
    "    x_values = pd.DataFrame(x_values)  \n",
    "    return x_values\n",
    "\n",
    "def calculate__probabilities():\n",
    "    p_setosa_test     = (p_setosa)    * (get_probability(0,gaussians_setosa,r[0])) * (get_probability(1,gaussians_setosa,r[1]))* (get_probability(2,gaussians_setosa,r[2])) * (get_probability(3,gaussians_setosa,r[3]))\n",
    "    p_versicolor_test = (p_versicolor) * (get_probability(0,gaussians_versicolor,r[0]))* (get_probability(1,gaussians_versicolor,r[1]))* (get_probability(2,gaussians_versicolor,r[2])) * (get_probability(3,gaussians_versicolor,r[3]))\n",
    "    p_virginica_test  = (p_virginica) * (get_probability(0,gaussians_virginica,r[0]))* (get_probability(1,gaussians_virginica,r[1]))* (get_probability(2,gaussians_virginica,r[2])) * (get_probability(3,gaussians_virginica,r[3]))\n",
    "    \n",
    "    return p_setosa_test,p_versicolor_test,p_virginica_test\n",
    "        \n",
    "def calculate_mean_std(data,column,specie):\n",
    "    aux = []\n",
    "    \n",
    "    for i in data:\n",
    "        if i[-1] == specie:\n",
    "            aux.append(i[column])\n",
    "    \n",
    "    mean = np.mean(aux)\n",
    "    std = np.std(aux)\n",
    "    \n",
    "    return mean,std\n",
    "    \n",
    "data = load_file('iris.data')\n",
    "data.columns=['sepal length', 'sepal width', 'petal length', 'petal width', 'class']\n"
   ]
  },
  {
   "cell_type": "markdown",
   "id": "c75c79b1",
   "metadata": {},
   "source": [
    "# Ex 1\n"
   ]
  },
  {
   "cell_type": "code",
   "execution_count": 330,
   "id": "748f5655",
   "metadata": {
    "scrolled": false
   },
   "outputs": [
    {
     "data": {
      "image/png": "[encoded data removed]",
      "text/plain": [
       "<Figure size 432x288 with 1 Axes>"
      ]
     },
     "metadata": {
      "needs_background": "light"
     },
     "output_type": "display_data"
    },
    {
     "name": "stdout",
     "output_type": "stream",
     "text": [
      "\n",
      "Iterations:  [2, 1, 1, 14, 1, 1, 11, 16, 9, 7, 1, 1, 2, 7, 13, 1, 1, 1, 1, 11, 1, 1, 1, 13, 1, 15, 1, 9, 13, 1] \n",
      "Average iterations : 5.266666666666667 \n",
      "Standard deviation : 5.4094567400268785 \n",
      "\n",
      "_______________________________\n",
      "\n",
      "\n"
     ]
    },
    {
     "data": {
      "image/png": "[encoded data removed]",
      "text/plain": [
       "<Figure size 432x288 with 1 Axes>"
      ]
     },
     "metadata": {
      "needs_background": "light"
     },
     "output_type": "display_data"
    },
    {
     "name": "stdout",
     "output_type": "stream",
     "text": [
      "\n",
      "Iterations:  [1, 1, 19, 1, 27, 1, 1, 1, 27, 1, 2, 38, 33, 1, 27, 1, 1, 1, 19, 1, 1, 27, 1, 1, 2, 27, 33, 38, 1, 1] \n",
      "Average iterations : 11.2 \n",
      "Standard deviation : 13.777759856619168 \n",
      "\n",
      "_______________________________\n",
      "\n",
      "\n"
     ]
    },
    {
     "data": {
      "image/png": "[encoded data removed]",
      "text/plain": [
       "<Figure size 432x288 with 1 Axes>"
      ]
     },
     "metadata": {
      "needs_background": "light"
     },
     "output_type": "display_data"
    },
    {
     "name": "stdout",
     "output_type": "stream",
     "text": [
      "\n",
      "Iterations:  [116, 1, 59, 2, 59, 1, 59, 116, 1, 83, 1, 1, 1, 1, 1, 2, 1, 1, 2, 1, 101, 1, 101, 1, 1, 1, 1, 116, 2, 83] \n",
      "Average iterations : 30.566666666666666 \n",
      "Standard deviation : 43.58645304322077 \n",
      "\n",
      "_______________________________\n",
      "\n",
      "\n"
     ]
    },
    {
     "data": {
      "image/png": "[encoded data removed]",
      "text/plain": [
       "<Figure size 432x288 with 1 Axes>"
      ]
     },
     "metadata": {
      "needs_background": "light"
     },
     "output_type": "display_data"
    },
    {
     "name": "stdout",
     "output_type": "stream",
     "text": [
      "\n",
      "Iterations:  [578, 2, 1, 1, 578, 817, 2, 1156, 1, 1001, 1, 1, 1, 1, 1, 1, 1, 1, 817, 578, 1, 1, 1, 1, 578, 2, 1, 817, 1, 578] \n",
      "Average iterations : 250.7 \n",
      "Standard deviation : 370.843106987308 \n",
      "\n",
      "_______________________________\n",
      "\n",
      "\n"
     ]
    }
   ],
   "source": [
    "random.seed(1)\n",
    "alphas = [10E-4,10E-5,10E-6,10E-8]\n",
    "exercise1(alphas)"
   ]
  },
  {
   "cell_type": "markdown",
   "id": "f347bd79",
   "metadata": {},
   "source": [
    "- À medida que se aumenta o alpha, o número de iterações para atingir um erro de 0 aumenta e consequentemente o desvio padrão também."
   ]
  },
  {
   "cell_type": "markdown",
   "id": "596fa6dd",
   "metadata": {},
   "source": [
    "# Ex 2"
   ]
  },
  {
   "cell_type": "code",
   "execution_count": 375,
   "id": "55d60b77",
   "metadata": {
    "scrolled": false
   },
   "outputs": [
    {
     "name": "stdout",
     "output_type": "stream",
     "text": [
      "Average accuracy for k = 3 : 95.55555555555556 %\n",
      "Average accuracy for k = 7 : 97.33333333333333 %\n",
      "Average accuracy for k = 11 : 98.22222222222221 %\n"
     ]
    },
    {
     "data": {
      "image/png": "[encoded data removed]",
      "text/plain": [
       "<Figure size 432x288 with 1 Axes>"
      ]
     },
     "metadata": {
      "needs_background": "light"
     },
     "output_type": "display_data"
    },
    {
     "data": {
      "image/png": "[encoded data removed]",
      "text/plain": [
       "<Figure size 720x360 with 1 Axes>"
      ]
     },
     "metadata": {
      "needs_background": "light"
     },
     "output_type": "display_data"
    }
   ],
   "source": [
    "k_neighbors = [3,7,11]\n",
    "exercise2(data,k_neighbors)\n"
   ]
  },
  {
   "cell_type": "markdown",
   "id": "5c456cbb",
   "metadata": {},
   "source": [
    "- O 'k' deve ser um número ímpar para prevenir que aconteça empates durante a previsão da class com os k - vizinhos mais próximos.\n",
    "- Se diminuirmoso valor de k pode ocorrer overfitting e o sistema de classicação fica mais sensível, enquanto que se aumentarmos o valor de k pode levar a underfitting e fica computacionalmente mais complexo"
   ]
  },
  {
   "cell_type": "markdown",
   "id": "1f36ad92",
   "metadata": {},
   "source": [
    "# Ex 3"
   ]
  },
  {
   "cell_type": "code",
   "execution_count": 319,
   "id": "8dfcc31d",
   "metadata": {},
   "outputs": [
    {
     "name": "stdout",
     "output_type": "stream",
     "text": [
      "Gain of the split of S by  ' sepal length ' : 0.40926436582784154\n",
      "Gain of the split of S by  ' sepal width ' : 0.2394884322265003\n",
      "Gain of the split of S by  ' petal length ' : 0.7140929216261507\n",
      "Gain of the split of S by  ' petal width ' : 0.6582868653951479\n"
     ]
    }
   ],
   "source": [
    "target_value = \"Iris-setosa\"\n",
    "exercise3(data,target_value)"
   ]
  },
  {
   "cell_type": "markdown",
   "id": "d1931b7a",
   "metadata": {},
   "source": [
    "- O 'gain' calcula a redução da entropia ao dividir o dataset em 2.\n",
    "- Para a construção de uma 'decision tree' iria-se fazer a divisão primeiro com base na divisão que apresentasse um maior ganho, neste caso seria com base na petal length, depois iria se proceder novamente á avaliação do gain com base nos 2 datasets gerados do petal length."
   ]
  },
  {
   "cell_type": "markdown",
   "id": "d69ee9c5",
   "metadata": {},
   "source": [
    "# Ex 4"
   ]
  },
  {
   "cell_type": "code",
   "execution_count": 391,
   "id": "3e0df0f6",
   "metadata": {
    "scrolled": false
   },
   "outputs": [
    {
     "name": "stdout",
     "output_type": "stream",
     "text": [
      "All accuracies: [91.11111111111111, 95.55555555555556, 97.77777777777777, 93.33333333333333, 93.33333333333333, 93.33333333333333, 100.0, 100.0, 97.77777777777777, 95.55555555555556]\n",
      "\n",
      "Average accuracy per test: 95.77777777777777 %\n"
     ]
    }
   ],
   "source": [
    "scores = []\n",
    "for i in range(10):\n",
    "    gaussians_setosa = []\n",
    "    gaussians_versicolor=[]\n",
    "    gaussians_virginica=[]\n",
    "\n",
    "    dataset = data.values\n",
    "    shufle_dataset = copy.deepcopy(dataset)\n",
    "    intersection_point = int(0.7*150) # ponto de interceção entre os 70% e 30% do dataset\n",
    "\n",
    "    np.random.shuffle(shufle_dataset)\n",
    "\n",
    "    training_set = shufle_dataset[:intersection_point] \n",
    "    test_set = shufle_dataset[intersection_point:]\n",
    "    test_set_verify = copy.deepcopy(test_set)\n",
    "\n",
    "    for i in range(4):\n",
    "\n",
    "        x_values = get_values()\n",
    "\n",
    "        mean_setosa, std_setosa        = calculate_mean_std(training_set,i, 'Iris-setosa')\n",
    "        mean_versicolor,std_versicolor = calculate_mean_std(training_set,i, 'Iris-versicolor')\n",
    "        mean_virginica, std_virginica  = calculate_mean_std(training_set,i, 'Iris-virginica')\n",
    "\n",
    "        gaussian_iris_setosa = (np.pi*std_setosa) * np.exp(-0.5*((x_values-mean_setosa)/std_setosa)**2)\n",
    "        gaussian_iris_versicolor = (np.pi*std_versicolor) * np.exp(-0.5*((x_values-mean_versicolor)/std_versicolor)**2)\n",
    "        gaussian_iris_virginica = (np.pi*std_virginica) * np.exp(-0.5*((x_values-mean_virginica)/std_virginica)**2)\n",
    "\n",
    "        gaussians_setosa.append(list(zip(x_values.values,gaussian_iris_setosa.values)))\n",
    "        gaussians_versicolor.append(list(zip(x_values.values,gaussian_iris_versicolor.values)))\n",
    "        gaussians_virginica.append(list(zip(x_values.values,gaussian_iris_virginica.values)))\n",
    "\n",
    "    count_setosa = 0\n",
    "    count_versicolor = 0\n",
    "    count_virginica = 0\n",
    "\n",
    "    for row in training_set:\n",
    "        if row[-1] == 'Iris-setosa':\n",
    "            count_setosa+=1\n",
    "        elif row[-1] == 'Iris-versicolor':\n",
    "            count_versicolor+=1\n",
    "        elif row[-1] == 'Iris-virginica':\n",
    "            count_virginica+=1\n",
    "\n",
    "    p_setosa = count_setosa/len(training_set)\n",
    "    p_versicolor = count_versicolor/len(training_set)\n",
    "    p_virginica = count_virginica/len(training_set)\n",
    "\n",
    "    for r in test_set:\n",
    "\n",
    "        probabilities = calculate__probabilities()\n",
    "        if max(probabilities) == probabilities[0]:\n",
    "            r[-1] = 'Iris-setosa'\n",
    "        elif max(probabilities) == probabilities[1]:\n",
    "            r[-1] = 'Iris-versicolor'\n",
    "\n",
    "        elif max(probabilities) == probabilities[2]:\n",
    "            r[-1] = 'Iris-virginica'\n",
    "\n",
    "    count = 0\n",
    "    for predicted_row,verified_row in zip(test_set,test_set_verify):\n",
    "        if predicted_row[-1] == verified_row[-1]:\n",
    "            count +=1\n",
    "\n",
    "    score = count/len(test_set)*100\n",
    "    scores.append(score)\n",
    "    \n",
    "print(\"All accuracies:\",scores)\n",
    "print(\"\\nAverage accuracy per test:\",np.mean(scores),\"%\")\n",
    "\n",
    "\n",
    "    "
   ]
  },
  {
   "cell_type": "code",
   "execution_count": null,
   "id": "d0ba4c45",
   "metadata": {},
   "outputs": [],
   "source": []
  }
 ],
 "metadata": {
  "kernelspec": {
   "display_name": "Python 3",
   "language": "python",
   "name": "python3"
  },
  "language_info": {
   "codemirror_mode": {
    "name": "ipython",
    "version": 3
   },
   "file_extension": ".py",
   "mimetype": "text/x-python",
   "name": "python",
   "nbconvert_exporter": "python",
   "pygments_lexer": "ipython3",
   "version": "3.8.8"
  }
 },
 "nbformat": 4,
 "nbformat_minor": 5
}
